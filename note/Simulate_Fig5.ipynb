{
 "cells": [
  {
   "cell_type": "code",
   "execution_count": null,
   "metadata": {},
   "outputs": [],
   "source": [
    "using Pkg\n",
    "Pkg.activate(\"../Project.toml\")\n",
    "Pkg.instantiate()"
   ]
  },
  {
   "cell_type": "code",
   "execution_count": null,
   "metadata": {},
   "outputs": [
    {
     "data": {
      "text/plain": [
       "angle_correct (generic function with 1 method)"
      ]
     },
     "execution_count": 2,
     "metadata": {},
     "output_type": "execute_result"
    }
   ],
   "source": [
    "using Dates\n",
    "using Plots\n",
    "using JLD2\n",
    "using LsqFit, StatsBase\n",
    "using QuadGK\n",
    "using Parameters\n",
    "using Distributions\n",
    "using SpecialFunctions\n",
    "using Random\n",
    "using SparseArrays\n",
    "using MultivariateStats\n",
    "\n",
    "include(joinpath(@__DIR__,\"..\",\"src\",\"Parameter_Setting.jl\"))\n",
    "include(joinpath(@__DIR__,\"..\",\"src\",\"Dynamics.jl\"))\n",
    "include(joinpath(@__DIR__,\"..\",\"src\",\"reversal_learning.jl\"))\n",
    "include(joinpath(@__DIR__,\"..\",\"src\",\"Babadi_Formula.jl\"))\n",
    "include(joinpath(@__DIR__,\"..\",\"src\",\"Plot.jl\"))\n",
    "\n",
    "cent(X) = X .- mean(X,dims=1)\n",
    "corr(X,N) = ((X' * X) / N) ./ sqrt.(diag(X'*X/N) * diag(X' * X/N)')\n",
    "cov(X,N) = ((X' * X) / N)# ./ sqrt.(diag(X'*X/N) * diag(X' * X/N)')\n",
    "palette_J = cgrad(:Blues,6,categorical=true)\n",
    "palette_h = cgrad(:Oranges,6,categorical=true)\n",
    "tmp_correlation_ϕ(y,ρ,f) = (1/2π) * quadgk(x -> (ϕ(x - Tf(f)) - f)*(ϕ(ρ*x + sqrt(1-ρ^2)*y-Tf(f))-f) * exp(-(x^2+y^2)/2), -5,5)[1]\n",
    "correlation_ϕ(ρ,f) =  quadgk(y -> tmp_correlation_ϕ(y,ρ,f), -5,5)[1]/(f*(1-f))\n",
    "angle_correct(θ) = θ > 0 ? θ : θ + 2π"
   ]
  },
  {
   "cell_type": "markdown",
   "metadata": {},
   "source": [
    "### reversal learning"
   ]
  },
  {
   "cell_type": "markdown",
   "metadata": {},
   "source": [
    "### Fig. 5E"
   ]
  },
  {
   "cell_type": "code",
   "execution_count": null,
   "metadata": {},
   "outputs": [
    {
     "name": "stdout",
     "output_type": "stream",
     "text": [
      "2025-07-29T21:47:41.523\n",
      "2025-07-29T23:42:56.189\n",
      "6914666 milliseconds\n"
     ]
    }
   ],
   "source": [
    "#1h55m\n",
    "Random.seed!(1)\n",
    "p.t_end = 10.\n",
    "p.r = 0.5\n",
    "p.dt = 0.1\n",
    "\n",
    "p.Ns = 100\n",
    "p.K = 100\n",
    "p.P = 1\n",
    "L = zeros(p.P)\n",
    "L[1] = +1\n",
    "S = zeros(p.Ns,p.P)\n",
    "S[:,1] = [ones(Int(p.Ns/2)); zeros(Int(p.Ns/2))] * sqrt(2)\n",
    "#S[:,2] = [zeros(Int(p.Ns/2)); ones(Int(p.Ns/2))] * sqrt(2)\n",
    "ϕ(x) = x > 0 ? 1 : 0\n",
    "p.f = 0.1\n",
    "p.model = :dense_normal\n",
    "N_simu = 3000; #500\n",
    "\n",
    "p.γW = 10^(-1.)\n",
    "p.αW = 1.0\n",
    "\n",
    "\n",
    "γlist = [10^x for x in -1.:0.25:1.]\n",
    "σlist = [2^x for x in -1.:1.:1.]\n",
    "Nclist = [10^3] #[10^x for x in 2:3]\n",
    "λlist = [2^0.] #[2^x for x in -2:2:2]\n",
    "\n",
    "t1 = now()\n",
    "println(t1)\n",
    "gL_λσ = Array{Any}(undef,2,length(γlist),length(σlist),length(Nclist),length(λlist))\n",
    "for i_γ in 1:length(γlist), i_σ in 1:length(σlist), i_Nc in 1:length(Nclist), i_λ in 1:length(λlist)\n",
    "    p.γh = γlist[i_γ]; p.γJ = γlist[i_γ]; p.Nc = Nclist[i_Nc]; p.λ = λlist[i_λ]\n",
    "    \n",
    "    p.σh = σlist[i_σ];p.σJ = 0.;\n",
    "    gL_λσ[1,i_γ,i_σ,i_Nc,i_λ] = reversal_learning(p,N_simu)\n",
    "\n",
    "    p.σh = 0.;p.σJ = σlist[i_σ];\n",
    "    gL_λσ[2,i_γ,i_σ,i_Nc,i_λ] = reversal_learning(p,N_simu)\n",
    "end\n",
    "t2 = now()\n",
    "println(t2)\n",
    "println(t2-t1)  \n",
    "\n",
    "\n",
    "jldsave(\"../data/reversal_learning_1odor_$(now()).jld2\";gL_λσ,p,S,L,γlist,σlist,Nclist,λlist)"
   ]
  },
  {
   "cell_type": "markdown",
   "metadata": {},
   "source": [
    "### Fig. 5F"
   ]
  },
  {
   "cell_type": "code",
   "execution_count": null,
   "metadata": {},
   "outputs": [
    {
     "name": "stdout",
     "output_type": "stream",
     "text": [
      "2025-07-29T23:43:17.290\n",
      "2025-07-30T03:00:29.491\n",
      "11832201 milliseconds\n"
     ]
    }
   ],
   "source": [
    "#3h17m\n",
    "Random.seed!(1)\n",
    "p.t_end = 10.\n",
    "p.r = 0.5\n",
    "\n",
    "p.Ns = 100\n",
    "p.K = 100\n",
    "p.P = 2\n",
    "L = zeros(p.P)\n",
    "L[1] = +1; L[2] = -1\n",
    "S = zeros(p.Ns,p.P)\n",
    "S[:,1] = [ones(Int(p.Ns/2)); zeros(Int(p.Ns/2))] * sqrt(2)\n",
    "S[:,2] = [zeros(Int(p.Ns/2)); ones(Int(p.Ns/2))] * sqrt(2)\n",
    "ϕ(x) = x > 0 ? 1 : 0\n",
    "p.f = 0.1\n",
    "p.model = :dense_normal\n",
    "N_simu = 3000; #500\n",
    "\n",
    "p.γW = 10^(-1.)\n",
    "p.αW = 1.0\n",
    "\n",
    "γlist = [10^x for x in -1.:0.25:1.]\n",
    "σlist = [2^x for x in -1.:1.:1.]\n",
    "Nclist = [10^3]#[10^x for x in 2:3]\n",
    "λlist = [2^0.] #[2^x for x in -2:2:2]\n",
    "\n",
    "t1 = now()\n",
    "println(t1)\n",
    "gL_λσ = Array{Any}(undef,2,length(γlist),length(σlist),length(Nclist),length(λlist))\n",
    "for i_γ in 1:length(γlist), i_σ in 1:length(σlist), i_Nc in 1:length(Nclist), i_λ in 1:length(λlist)\n",
    "    p.γh = γlist[i_γ]; p.γJ = γlist[i_γ]; p.Nc = Nclist[i_Nc]; p.λ = λlist[i_λ]\n",
    "    \n",
    "    p.σh = σlist[i_σ];p.σJ = 0.;\n",
    "    gL_λσ[1,i_γ,i_σ,i_Nc,i_λ] = reversal_learning(p,N_simu)\n",
    "\n",
    "    p.σh = 0.;p.σJ = σlist[i_σ];\n",
    "    gL_λσ[2,i_γ,i_σ,i_Nc,i_λ] = reversal_learning(p,N_simu)\n",
    "end\n",
    "t2 = now()\n",
    "println(t2)\n",
    "println(t2-t1)  \n",
    "\n",
    "\n",
    "jldsave(\"../data/reversal_learning_2odor_$(now()).jld2\";gL_λσ,p,S,L,γlist,σlist,Nclist,λlist)"
   ]
  },
  {
   "cell_type": "markdown",
   "metadata": {},
   "source": [
    "### Fig. S5B"
   ]
  },
  {
   "cell_type": "code",
   "execution_count": null,
   "metadata": {},
   "outputs": [
    {
     "name": "stdout",
     "output_type": "stream",
     "text": [
      "2025-07-30T03:00:49.251\n",
      "2025-07-30T04:09:11.196\n",
      "4101945 milliseconds\n"
     ]
    }
   ],
   "source": [
    "#1h8m\n",
    "Random.seed!(1)\n",
    "p.t_end = 10.\n",
    "p.r = 0.5\n",
    "\n",
    "p.Ns = 100\n",
    "p.K = 100\n",
    "p.P = 2\n",
    "L = zeros(p.P)\n",
    "L[1] = +1; L[2] = -1\n",
    "S = zeros(p.Ns,p.P)\n",
    "S[:,1] = [ones(Int(p.Ns/2)); zeros(Int(p.Ns/2))] * sqrt(2)\n",
    "S[:,2] = [zeros(Int(p.Ns/2)); ones(Int(p.Ns/2))] * sqrt(2)\n",
    "ϕ(x) = x > 0 ? 1 : 0\n",
    "p.f = 0.1\n",
    "p.model = :dense_normal\n",
    "N_simu = 3000; #500\n",
    "\n",
    "p.γW = 10^(-1.)\n",
    "p.αW = 1.0\n",
    "\n",
    "γlist = [10^x for x in -1.:0.25:1.]\n",
    "σlist = [2.]#[2^x for x in -1.:1.:2.]\n",
    "Nclist = [10^x for x in 2:3]\n",
    "λlist = [2^0.] #[2^x for x in -2:2:2]\n",
    "\n",
    "t1 = now()\n",
    "println(t1)\n",
    "gL_λσ = Array{Any}(undef,2,length(γlist),length(σlist),length(Nclist),length(λlist))\n",
    "for i_γ in 1:length(γlist), i_σ in 1:length(σlist), i_Nc in 1:length(Nclist), i_λ in 1:length(λlist)\n",
    "    p.γh = γlist[i_γ]; p.γJ = γlist[i_γ]; p.Nc = Nclist[i_Nc]; p.λ = λlist[i_λ]\n",
    "    \n",
    "    p.σh = σlist[i_σ];p.σJ = 0.;\n",
    "    gL_λσ[1,i_γ,i_σ,i_Nc,i_λ] = reversal_learning(p,N_simu)\n",
    "\n",
    "    p.σh = 0.;p.σJ = σlist[i_σ];\n",
    "    gL_λσ[2,i_γ,i_σ,i_Nc,i_λ] = reversal_learning(p,N_simu)\n",
    "end\n",
    "t2 = now()\n",
    "println(t2)\n",
    "println(t2-t1)  \n",
    "\n",
    "\n",
    "jldsave(\"../data/reversal_learning_2odor_Nc_$(now()).jld2\";gL_λσ,p,S,L,γlist,σlist,Nclist,λlist)"
   ]
  },
  {
   "cell_type": "markdown",
   "metadata": {},
   "source": [
    "### Fig. S5A"
   ]
  },
  {
   "cell_type": "code",
   "execution_count": null,
   "metadata": {},
   "outputs": [
    {
     "name": "stdout",
     "output_type": "stream",
     "text": [
      "2025-07-30T04:09:31.129\n",
      "2025-07-30T09:15:23.584\n",
      "18352455 milliseconds\n"
     ]
    }
   ],
   "source": [
    "#5h6m\n",
    "Random.seed!(1)\n",
    "p.t_end = 10.\n",
    "p.r = 0.5\n",
    "\n",
    "p.Ns = 100\n",
    "p.K = 100\n",
    "p.P = 2\n",
    "L = zeros(p.P)\n",
    "L[1] = +1; L[2] = -1\n",
    "S = zeros(p.Ns,p.P)\n",
    "S[:,1] = [ones(Int(p.Ns/2)); zeros(Int(p.Ns/2))] * sqrt(2)\n",
    "S[:,2] = [zeros(Int(p.Ns/2)); ones(Int(p.Ns/2))] * sqrt(2)\n",
    "ϕ(x) = x > 0 ? 1 : 0\n",
    "p.f = 0.1\n",
    "p.model = :dense_normal\n",
    "N_simu = 3000; #500\n",
    "\n",
    "p.γW = 10^(-1.)\n",
    "p.αW = 1.0\n",
    "\n",
    "γlist = [10^x for x in -1.:0.25:1.]\n",
    "σlist = [2.]#[2^x for x in -1.:1.:2.]\n",
    "Nclist = [10^3]#[10^x for x in 2:3]\n",
    "λlist = [2^x for x in -2:2:2.]\n",
    "\n",
    "t1 = now()\n",
    "println(t1)\n",
    "gL_λσ = Array{Any}(undef,2,length(γlist),length(σlist),length(Nclist),length(λlist))\n",
    "for i_γ in 1:length(γlist), i_σ in 1:length(σlist), i_Nc in 1:length(Nclist), i_λ in 1:length(λlist)\n",
    "    p.γh = γlist[i_γ]; p.γJ = γlist[i_γ]; p.Nc = Nclist[i_Nc]; p.λ = λlist[i_λ]\n",
    "    \n",
    "    p.σh = σlist[i_σ];p.σJ = 0.;\n",
    "    gL_λσ[1,i_γ,i_σ,i_Nc,i_λ] = reversal_learning(p,N_simu)\n",
    "\n",
    "    p.σh = 0.;p.σJ = σlist[i_σ];\n",
    "    gL_λσ[2,i_γ,i_σ,i_Nc,i_λ] = reversal_learning(p,N_simu)\n",
    "end\n",
    "t2 = now()\n",
    "println(t2)\n",
    "println(t2-t1)  \n",
    "\n",
    "\n",
    "jldsave(\"../data/reversal_learning_2odor_λ_$(now()).jld2\";gL_λσ,p,S,L,γlist,σlist,Nclist,λlist)"
   ]
  }
 ],
 "metadata": {
  "kernelspec": {
   "display_name": "Julia 1.11.6",
   "language": "julia",
   "name": "julia-1.11"
  },
  "language_info": {
   "file_extension": ".jl",
   "mimetype": "application/julia",
   "name": "julia",
   "version": "1.11.6"
  },
  "orig_nbformat": 4
 },
 "nbformat": 4,
 "nbformat_minor": 2
}
